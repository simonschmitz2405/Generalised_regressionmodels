{
 "cells": [
  {
   "cell_type": "markdown",
   "metadata": {
    "jupyter": {
     "source_hidden": true
    }
   },
   "source": [
    "# Exercise for PhD students and interested Master students\n",
    "\n",
    "\n",
    "## Task (A): Detecting ARCH Effects in AR(1) Residuals\n",
    "\n",
    "A.1 Load the data file \"timeseries.csv\" and assign the variable name $r_t$ to it \n",
    "\n",
    "A.2 Plot the time series of $r_t$\n",
    "\n",
    "A.3 Use the Helper_TestingForARCHEffects file to evaluate whether there is evidence for heteroscedasticity in $r_t$. Use an AR(1) model and up to 10 lags of correlation in squared residuals. Do you reject the hypothesis of a constant vol in AR(1) residuals?\n",
    "\n",
    "\n",
    "\n",
    "## Task (B): Fitting AR(1)-ARCH(1) using 2pass Regressions\n",
    "\n",
    "B.1 Fit an AR(1)-ARCH(1) to $r_t$ by means of 2pass regression\n",
    "\n",
    "B.2 Give out respective parameter estimates\n",
    "\n",
    "B.3. Plot the resulting squared residuals.\n",
    "\n",
    "B.4 Does the ARCH(1) capture all vs none vs a bit of the heteroscedasticity in $r_t$?\n",
    "\n",
    "\n",
    "\n",
    "## Task (C): Fitting AR(1)-ARCH(1) using MLE\n",
    "\n",
    "C.0 Write down the log likelihood function for $\\{r_t\\}_t$ assuming Gaussian errors.\n",
    "\n",
    "C.1 Write a function Neg_loglikelihood_ar1_arch1() that takes as in put a list of model parameters. The function returns the negative log likelihood value of the observed time series $\\{r_t\\}_t$. Hint: You can treat $\\{r_t\\}_t$ as a global variable.\n",
    "\n",
    "C.2 Find smart starting values for the unknown parameters. Hint: Rely on 2-pass regressions.\n",
    "\n",
    "C.3 Rely on the scipy package and the Nelder-Mead optimization routine to conduct a MLE optimization of the negative log likelihood function.\n",
    "\n",
    "C.4 Print out the MLE parameters \n",
    "\n",
    "\n",
    "\n",
    "## Task (D): Fitting AR(1)-GARCH(1,1) using MLE\n",
    "\n",
    "D.0 Write down the log likelihood function for $\\{r_t\\}$ assuming Gaussian errors.\n",
    "\n",
    "D.1 Write a function called garch11_variance(alpha_0, alpha_1, beta_1, sigma2_1, epsilon). The function returns a time series of GARCH(1,1) variance terms. Hint: sigma2_1 is a parameter and captures the first variance that starts the GARCH(1,1) recursion.\n",
    "\n",
    "D.2 Write a function called Neg_loglikelihood_ar1_GARCH11(parameters). Parameters is a list of model parameters. The function returns the negative log likelihood of $\\{r_t\\}$.\n",
    "\n",
    "D.3 Rely on 2pass regression to pin down smart starting values for \"parameters\". Use 0.1 and 1.0 for beta_1 and sigma2_1, respectively. \n",
    "\n",
    "D.4 Rely on the scipy package and the Nelder-Mead optimization routine to conduct a MLE optimization of the negative log likelihood function.\n",
    "\n",
    "D.5 Print out the MLE parameters \n",
    "\n",
    "D.6 Refit the AR(1)-GARCH(1,1) model by using Python's arch_model. Do optimal parameters and log likelihood differ from D.5?"
   ]
  },
  {
   "cell_type": "markdown",
   "metadata": {},
   "source": [
    "## A. Detecting ARCH Effects in Residuals of an AR(1) Process\n",
    "\n",
    "See how to check for ARCH effects in error terms of an unknown DGP"
   ]
  },
  {
   "cell_type": "code",
   "execution_count": 1,
   "metadata": {},
   "outputs": [],
   "source": [
    "#Necessary Python packages\n",
    "import pandas as pd\n",
    "import pylab as plt"
   ]
  },
  {
   "cell_type": "code",
   "execution_count": 2,
   "metadata": {},
   "outputs": [
    {
     "data": {
      "image/png": "[encoded data removed]",
      "text/plain": [
       "<Figure size 432x288 with 1 Axes>"
      ]
     },
     "metadata": {
      "needs_background": "light"
     },
     "output_type": "display_data"
    }
   ],
   "source": [
    "#Time-Series of interest\n",
    "r_t = pd.read_csv(\"timeseries.csv\", squeeze=True)\n",
    "plt.plot(r_t);"
   ]
  },
  {
   "cell_type": "code",
   "execution_count": 3,
   "metadata": {},
   "outputs": [],
   "source": [
    "#Run Portmanteau-Test on squared residuals of AR(1) process for an ARCH-lag of up to m\n",
    "from ipynb.fs.defs.Helper_TestingForARCHEffects import Portmanteau_Test\n",
    "#%run Helper_TestingForARCHEffects.ipynb\n",
    "\n",
    "p = 1\n",
    "m = 10\n",
    "PT = Portmanteau_Test(r_t.values, p, m)"
   ]
  },
  {
   "cell_type": "code",
   "execution_count": 4,
   "metadata": {},
   "outputs": [
    {
     "name": "stdout",
     "output_type": "stream",
     "text": [
      "5.823907401970265e-33\n"
     ]
    }
   ],
   "source": [
    "PT_pvl = PT[1]\n",
    "print(PT_pvl)"
   ]
  },
  {
   "cell_type": "markdown",
   "metadata": {},
   "source": [
    "**Observation:**\n",
    "    \n",
    "We reject $H_0$ of a constant vol in AR(1) residuals and conclude that $r_t$ is heteroscedastic. Hence, we now have to think about how best to account for stochastic volatility in the return residuals."
   ]
  },
  {
   "cell_type": "markdown",
   "metadata": {},
   "source": [
    "## B. Fitting AR(p)-ARCH(m) using 2-Pass Regression\n",
    "\n",
    "- **First, fit AR(p)** model of choice and get residuals\n",
    "\n",
    "$$\n",
    "\\\\\n",
    "$$\n",
    "\n",
    "- **Second, square residuals and fit an AR(m)** to it. The latter step does approximately identify the ARCH(m) dynamic  "
   ]
  },
  {
   "cell_type": "code",
   "execution_count": 5,
   "metadata": {},
   "outputs": [],
   "source": [
    "#necessary packages\n",
    "import numpy as np\n",
    "import pandas as pd\n",
    "import statsmodels.api as sm\n",
    "import math\n",
    "import scipy.optimize"
   ]
  },
  {
   "cell_type": "markdown",
   "metadata": {},
   "source": [
    "**Application: AR(1)-ARCH(1)**"
   ]
  },
  {
   "cell_type": "code",
   "execution_count": 6,
   "metadata": {},
   "outputs": [],
   "source": [
    "#First, get residuals from AR(1) fit\n",
    "y = r_t.iloc[1:].values\n",
    "X = np.ones((y.shape[0], 2))\n",
    "X[:,1] = r_t.iloc[:-1].values\n",
    "\n",
    "ar1 = sm.OLS(y,X).fit()\n",
    "eps = ar1.resid"
   ]
  },
  {
   "cell_type": "code",
   "execution_count": 7,
   "metadata": {},
   "outputs": [
    {
     "name": "stdout",
     "output_type": "stream",
     "text": [
      "                            OLS Regression Results                            \n",
      "==============================================================================\n",
      "Dep. Variable:                      y   R-squared:                       0.701\n",
      "Model:                            OLS   Adj. R-squared:                  0.701\n",
      "Method:                 Least Squares   F-statistic:                     2342.\n",
      "Date:                Wed, 07 Feb 2024   Prob (F-statistic):          5.99e-264\n",
      "Time:                        15:23:03   Log-Likelihood:                 942.66\n",
      "No. Observations:                 999   AIC:                            -1881.\n",
      "Df Residuals:                     997   BIC:                            -1872.\n",
      "Df Model:                           1                                         \n",
      "Covariance Type:            nonrobust                                         \n",
      "==============================================================================\n",
      "                 coef    std err          t      P>|t|      [0.025      0.975]\n",
      "------------------------------------------------------------------------------\n",
      "const         -0.0009      0.003     -0.287      0.774      -0.007       0.005\n",
      "x1             0.8375      0.017     48.399      0.000       0.804       0.871\n",
      "==============================================================================\n",
      "Omnibus:                      180.617   Durbin-Watson:                   2.000\n",
      "Prob(Omnibus):                  0.000   Jarque-Bera (JB):             3748.028\n",
      "Skew:                          -0.014   Prob(JB):                         0.00\n",
      "Kurtosis:                      12.489   Cond. No.                         5.80\n",
      "==============================================================================\n",
      "\n",
      "Warnings:\n",
      "[1] Standard Errors assume that the covariance matrix of the errors is correctly specified.\n"
     ]
    }
   ],
   "source": [
    "#summary stats of regression\n",
    "print(ar1.summary())"
   ]
  },
  {
   "cell_type": "code",
   "execution_count": 8,
   "metadata": {},
   "outputs": [
    {
     "data": {
      "text/plain": [
       "[<matplotlib.lines.Line2D at 0x7fde3bfafa50>]"
      ]
     },
     "execution_count": 8,
     "metadata": {},
     "output_type": "execute_result"
    },
    {
     "data": {
      "image/png": "[encoded data removed]",
      "text/plain": [
       "<Figure size 432x288 with 1 Axes>"
      ]
     },
     "metadata": {
      "needs_background": "light"
     },
     "output_type": "display_data"
    }
   ],
   "source": [
    "#plot of squared residuals\n",
    "plt.plot(eps**2)"
   ]
  },
  {
   "cell_type": "code",
   "execution_count": 9,
   "metadata": {},
   "outputs": [],
   "source": [
    "#Second, fit AR(1) to eps^2\n",
    "y = eps[1:]**2\n",
    "X = np.ones((y.shape[0], 2))\n",
    "X[:,1] = eps[:-1]**2 \n",
    "\n",
    "arch_1 = sm.OLS(y, X).fit()"
   ]
  },
  {
   "cell_type": "code",
   "execution_count": 10,
   "metadata": {},
   "outputs": [
    {
     "data": {
      "text/plain": [
       "array([0.00562677, 0.3661949 ])"
      ]
     },
     "execution_count": 10,
     "metadata": {},
     "output_type": "execute_result"
    }
   ],
   "source": [
    "#ARCH(1) parameters\n",
    "arch_1.params"
   ]
  },
  {
   "cell_type": "code",
   "execution_count": 11,
   "metadata": {},
   "outputs": [
    {
     "name": "stdout",
     "output_type": "stream",
     "text": [
      "                            OLS Regression Results                            \n",
      "==============================================================================\n",
      "Dep. Variable:                      y   R-squared:                       0.134\n",
      "Model:                            OLS   Adj. R-squared:                  0.133\n",
      "Method:                 Least Squares   F-statistic:                     154.2\n",
      "Date:                Wed, 07 Feb 2024   Prob (F-statistic):           4.96e-33\n",
      "Time:                        15:23:03   Log-Likelihood:                 2152.7\n",
      "No. Observations:                 998   AIC:                            -4301.\n",
      "Df Residuals:                     996   BIC:                            -4291.\n",
      "Df Model:                           1                                         \n",
      "Covariance Type:            nonrobust                                         \n",
      "==============================================================================\n",
      "                 coef    std err          t      P>|t|      [0.025      0.975]\n",
      "------------------------------------------------------------------------------\n",
      "const          0.0056      0.001      6.085      0.000       0.004       0.007\n",
      "x1             0.3662      0.029     12.420      0.000       0.308       0.424\n",
      "==============================================================================\n",
      "Omnibus:                     1701.251   Durbin-Watson:                   2.027\n",
      "Prob(Omnibus):                  0.000   Jarque-Bera (JB):          1777058.732\n",
      "Skew:                          10.780   Prob(JB):                         0.00\n",
      "Kurtosis:                     208.597   Cond. No.                         33.2\n",
      "==============================================================================\n",
      "\n",
      "Warnings:\n",
      "[1] Standard Errors assume that the covariance matrix of the errors is correctly specified.\n"
     ]
    }
   ],
   "source": [
    "#summary stat of heteroscedasticity\n",
    "print(arch_1.summary())"
   ]
  },
  {
   "cell_type": "code",
   "execution_count": 12,
   "metadata": {},
   "outputs": [
    {
     "name": "stdout",
     "output_type": "stream",
     "text": [
      "1.2610961235632874e-05\n"
     ]
    }
   ],
   "source": [
    "#Are ARCH(1) residuals homoscedastic? If not, m>1 necessary\n",
    "print( Portmanteau_Test(arch_1.resid, 1, 10)[1]) #p-value of H_0 of homoscedastic innovations\n"
   ]
  },
  {
   "cell_type": "code",
   "execution_count": 13,
   "metadata": {},
   "outputs": [
    {
     "data": {
      "text/plain": [
       "[<matplotlib.lines.Line2D at 0x7fde3cbac790>]"
      ]
     },
     "execution_count": 13,
     "metadata": {},
     "output_type": "execute_result"
    },
    {
     "data": {
      "image/png": "[encoded data removed]",
      "text/plain": [
       "<Figure size 432x288 with 1 Axes>"
      ]
     },
     "metadata": {
      "needs_background": "light"
     },
     "output_type": "display_data"
    }
   ],
   "source": [
    "plt.plot(arch_1.resid)"
   ]
  },
  {
   "cell_type": "markdown",
   "metadata": {},
   "source": [
    "**Observation:**\n",
    "\n",
    "- (i): **ARCH(1) captures part, yet, not all of the heteroscedasticity in the time-series.**\n",
    "\n",
    "$$\n",
    "\\\\\n",
    "$$\n",
    "\n",
    "- (ii): **Either increase $m$ or, preferrably, move towards GARCH(1,1)**"
   ]
  },
  {
   "cell_type": "code",
   "execution_count": null,
   "metadata": {},
   "outputs": [],
   "source": []
  },
  {
   "cell_type": "markdown",
   "metadata": {},
   "source": [
    "## C. Fitting AR(1)-ARCH(1) using MLE"
   ]
  },
  {
   "cell_type": "markdown",
   "metadata": {},
   "source": [
    "Remember: assuming Gaussian innovations one ends up with\n",
    "\n",
    "$$\n",
    "L_T(\\phi_0, \\phi_1, \\alpha_0, \\alpha_1) = \\prod_{t=2}^T \\frac{1}{\\sqrt{ 2 \\pi (\\alpha_0 + \\alpha_1 \\epsilon^2_{t-1})}} \\times \\exp\\left( -\\frac{(r_t - [\\phi_0 + \\phi_1 r_{t-1}])^2}{2 (\\alpha_0 + \\alpha_1 \\epsilon^2_{t-1})} \\right)\n",
    "$$\n",
    "\n",
    "Remember:\n",
    "$$\n",
    "\\ln (L_T(.)) = \\sum_{t=2}^T -\\frac{1}{2} \\ln(2\\pi [\\alpha_0 + \\alpha_1 \\epsilon^2_{t-1}]) - \\frac{1}{2}  \\frac{(r_t - [\\phi_0 + \\phi_1 r_{t-1}])^2}{2 (\\alpha_0 + \\alpha_1 \\epsilon^2_{t-1})} \n",
    "$$"
   ]
  },
  {
   "cell_type": "code",
   "execution_count": 14,
   "metadata": {},
   "outputs": [],
   "source": [
    "# -ln( L_T(.) )\n",
    "\n",
    "def Neg_loglikelihood_ar1_arch1(parameters):   # Parameters is a list of model parameters, here: [\\phi_0, phi_1, alpha_0, alpha_1   ]  \n",
    "    phi_0   = parameters[0]\n",
    "    phi_1   = parameters[1]\n",
    "    alpha_0 = parameters[2]\n",
    "    alpha_1 = parameters[3]\n",
    "\n",
    "    means = phi_0 + phi_1 * r_t.iloc[:-1].values\n",
    "    eps   = r_t.iloc[1:].values - means\n",
    "    vars_  = alpha_0 + alpha_1 * eps[:-1]**2\n",
    "       \n",
    "    loglikeli = np.sum(-0.5 * np.log(2 * math.pi * vars_) - (r_t.iloc[2:].values - means[1:])**2 / (2 * vars_))\n",
    "\n",
    "    return -loglikeli"
   ]
  },
  {
   "cell_type": "markdown",
   "metadata": {},
   "source": [
    "**Numerical Optimization of ln (L_T(.))**"
   ]
  },
  {
   "cell_type": "code",
   "execution_count": 15,
   "metadata": {},
   "outputs": [
    {
     "name": "stdout",
     "output_type": "stream",
     "text": [
      "[-0.0008576158677755598, 0.8375287214490452, 0.005626766756487489, 0.3661949018100925]\n"
     ]
    }
   ],
   "source": [
    "#estimates of 2-pass estimation will be starting values  \n",
    "ar1_arch1_params_start = [ar1.params[0], ar1.params[1], arch_1.params[0], arch_1.params[1]]\n",
    "print(ar1_arch1_params_start)"
   ]
  },
  {
   "cell_type": "code",
   "execution_count": 16,
   "metadata": {},
   "outputs": [
    {
     "name": "stdout",
     "output_type": "stream",
     "text": [
      "Optimization terminated successfully.\n",
      "         Current function value: -1213.441158\n",
      "         Iterations: 144\n",
      "         Function evaluations: 247\n"
     ]
    }
   ],
   "source": [
    "#Non-Constrained, non-linear optimization, i.e. https://docs.scipy.org/doc/scipy/reference/generated/scipy.optimize.minimize.html\n",
    "ar1_arch1_params_optimal = scipy.optimize.minimize(Neg_loglikelihood_ar1_arch1, ar1_arch1_params_start, method = 'Nelder-Mead', options={'disp':True})"
   ]
  },
  {
   "cell_type": "code",
   "execution_count": 17,
   "metadata": {},
   "outputs": [
    {
     "name": "stdout",
     "output_type": "stream",
     "text": [
      "[-1.21494281e-04  8.12806208e-01  2.21445415e-03  8.26132317e-01]\n"
     ]
    }
   ],
   "source": [
    "#print optimal AR(1)-ARCH(1) parameters\n",
    "print(ar1_arch1_params_optimal.x)"
   ]
  },
  {
   "cell_type": "code",
   "execution_count": null,
   "metadata": {},
   "outputs": [],
   "source": []
  },
  {
   "cell_type": "markdown",
   "metadata": {},
   "source": [
    "## D. Fitting AR(1)-GARCH(1,1) using MLE\n",
    "\n",
    "Note: assuming Gaussian innovations one ends up with\n",
    "\n",
    "$$\n",
    "L_T(\\phi_0, \\phi_1, \\alpha_0, \\alpha_1, \\beta_1, \\sigma_1) = \\prod_{t=2}^T \\frac{1}{\\sqrt{ 2 \\pi (\\alpha_0 + \\alpha_1 \\epsilon^2_{t-1} + \\beta_1 \\sigma^2_{t-1})}} \\times \\exp\\left( -\\frac{(r_t - [\\phi_0 + \\phi_1 r_{t-1}])^2}{2 (\\alpha_0 + \\alpha_1 \\epsilon^2_{t-1}+ \\beta_1 \\sigma^2_{t-1})} \\right)\n",
    "$$\n",
    "with $\\sigma^2_t = \\alpha_0 + \\alpha_1 \\epsilon^2_{t-1} + \\beta_1 \\sigma^2_{t-1}, s.t. \\sigma^2_1 = \\text{known parameter}$\n",
    "\n",
    "Note:\n",
    "$$\n",
    "\\ln (L_T(.)) = \\sum_{t=2}^T -\\frac{1}{2} \\ln(2\\pi [\\alpha_0 + \\alpha_1 \\epsilon^2_{t-1}+ \\beta_1 \\sigma^2_{t-1}]) - \\frac{1}{2}  \\frac{(r_t - [\\phi_0 + \\phi_1 r_{t-1}])^2}{2 (\\alpha_0 + \\alpha_1 \\epsilon^2_{t-1}+ \\beta_1 \\sigma^2_{t-1})} \n",
    "$$"
   ]
  },
  {
   "cell_type": "code",
   "execution_count": 18,
   "metadata": {},
   "outputs": [],
   "source": [
    "#calculate sigma^2_t parametrically using the GARCH(1,1) recursion\n",
    "\n",
    "def garch11_variance(alpha_0, alpha_1, beta_1, sigma2_1, epsilon):\n",
    "    sigma2 = np.zeros(epsilon.shape[0] - 1)\n",
    "    sigma2[0] = alpha_0 + alpha_1 * epsilon[0]**2 + beta_1 * sigma2_1 \n",
    "    for i in range(1, sigma2.shape[0]):\n",
    "        sigma2[i] = alpha_0 + alpha_1 * epsilon[i]**2 + beta_1 * sigma2[i-1]\n",
    "    \n",
    "    return sigma2"
   ]
  },
  {
   "cell_type": "code",
   "execution_count": 19,
   "metadata": {},
   "outputs": [],
   "source": [
    "# -ln( L_T(.) )\n",
    "\n",
    "def Neg_loglikelihood_ar1_Garch11(parameters):   # Parameters is a list of model parameters, here: [\\phi_0, phi_1, alpha_0, alpha_1, beta_1, sigma2_1]\n",
    "    phi_0   = parameters[0]\n",
    "    phi_1   = parameters[1]\n",
    "    alpha_0 = parameters[2]\n",
    "    alpha_1 = parameters[3]\n",
    "    beta_1  = parameters[4]\n",
    "    sigma2_1= parameters[5]\n",
    "    \n",
    "    means = phi_0 + phi_1 * r_t.iloc[:-1].values\n",
    "    eps   = r_t.iloc[1:].values - means\n",
    "    vars_  = garch11_variance(alpha_0, alpha_1, beta_1, sigma2_1, eps)\n",
    "       \n",
    "    loglikeli = np.sum(-0.5 * np.log(2 * math.pi * vars_) - (r_t.iloc[2:].values - means[1:])**2 / (2 * vars_))\n",
    "\n",
    "    return -loglikeli"
   ]
  },
  {
   "cell_type": "code",
   "execution_count": 20,
   "metadata": {},
   "outputs": [
    {
     "name": "stdout",
     "output_type": "stream",
     "text": [
      "[-0.0008576158677755598, 0.8375287214490452, 0.005626766756487489, 0.3661949018100925, 0.01, 1]\n"
     ]
    }
   ],
   "source": [
    "# AR(1)-ARCH(1,1) - 2pass estimates as start values\n",
    "ar1_Garch11_params_start = [ar1.params[0], ar1.params[1], arch_1.params[0], arch_1.params[1], 0.01,1]\n",
    "print(ar1_Garch11_params_start)"
   ]
  },
  {
   "cell_type": "code",
   "execution_count": 21,
   "metadata": {},
   "outputs": [
    {
     "name": "stdout",
     "output_type": "stream",
     "text": [
      "Optimization terminated successfully.\n",
      "         Current function value: -1213.896831\n",
      "         Iterations: 722\n",
      "         Function evaluations: 1107\n"
     ]
    }
   ],
   "source": [
    "#Non-Constrained, non-linear optimization, i.e. https://docs.scipy.org/doc/scipy/reference/generated/scipy.optimize.minimize.html\n",
    "ar1_Garch11_params_optimal = scipy.optimize.minimize(Neg_loglikelihood_ar1_Garch11, ar1_Garch11_params_start, method = 'Nelder-Mead', options={'disp':True})"
   ]
  },
  {
   "cell_type": "code",
   "execution_count": 22,
   "metadata": {},
   "outputs": [
    {
     "name": "stdout",
     "output_type": "stream",
     "text": [
      "[-5.09644520e-05  8.12328802e-01  2.16728836e-03  8.22020385e-01\n",
      "  7.66639221e-03  7.38296190e-01]\n"
     ]
    }
   ],
   "source": [
    "#print optimal AR(1)-GARCH(1,1) parameters\n",
    "print(ar1_Garch11_params_optimal.x)"
   ]
  },
  {
   "cell_type": "markdown",
   "metadata": {},
   "source": [
    "**solution from Python package ARCH_Model**"
   ]
  },
  {
   "cell_type": "code",
   "execution_count": 23,
   "metadata": {},
   "outputs": [],
   "source": [
    "#get the ARCH-Model package\n",
    "from arch import arch_model"
   ]
  },
  {
   "cell_type": "markdown",
   "metadata": {},
   "source": [
    "$$r_t=const+ \\phi r_{t-1}+\\epsilon_t$$\n",
    "$$\\sigma^2_t = \\omega + \\alpha \\epsilon_{t-1}^2 +\\beta \\sigma^2_{t−1}$$\n",
    "$$\\epsilon_t= \\sigma_t e_t,\\ e_t \\sim \\mathcal{N}(0,1)$$"
   ]
  },
  {
   "cell_type": "code",
   "execution_count": 24,
   "metadata": {},
   "outputs": [],
   "source": [
    "#instantiate the AR(1)-GARCH(1,1) Model\n",
    "am = arch_model(r_t, lags=1, mean=\"AR\", vol=\"Garch\", dist=\"Normal\", rescale=False)"
   ]
  },
  {
   "cell_type": "code",
   "execution_count": 25,
   "metadata": {},
   "outputs": [
    {
     "name": "stdout",
     "output_type": "stream",
     "text": [
      "Iteration:      1,   Func. Count:      7,   Neg. LLF: -1115.9546193814917\n",
      "Iteration:      2,   Func. Count:     19,   Neg. LLF: -1115.9834004965962\n",
      "Iteration:      3,   Func. Count:     30,   Neg. LLF: -1116.494086938153\n",
      "Iteration:      4,   Func. Count:     38,   Neg. LLF: -1123.2475148367796\n",
      "Iteration:      5,   Func. Count:     45,   Neg. LLF: -1196.61593284966\n",
      "Iteration:      6,   Func. Count:     54,   Neg. LLF: -1203.6408305573457\n",
      "Iteration:      7,   Func. Count:     62,   Neg. LLF: -1208.557615689951\n",
      "Iteration:      8,   Func. Count:     70,   Neg. LLF: -1211.0772708615166\n",
      "Iteration:      9,   Func. Count:     78,   Neg. LLF: -1214.3061335764758\n",
      "Iteration:     10,   Func. Count:     86,   Neg. LLF: -1214.4994245591229\n",
      "Iteration:     11,   Func. Count:     95,   Neg. LLF: -1214.5882974965944\n",
      "Iteration:     12,   Func. Count:    103,   Neg. LLF: -1214.8087867339573\n",
      "Iteration:     13,   Func. Count:    111,   Neg. LLF: -1214.8151334717788\n",
      "Iteration:     14,   Func. Count:    120,   Neg. LLF: -1214.817352040912\n",
      "Iteration:     15,   Func. Count:    127,   Neg. LLF: -1214.820923160932\n",
      "Iteration:     16,   Func. Count:    134,   Neg. LLF: -1214.8220029355507\n",
      "Iteration:     17,   Func. Count:    141,   Neg. LLF: -1214.8220109957363\n",
      "Optimization terminated successfully.    (Exit mode 0)\n",
      "            Current function value: -1214.8220109958463\n",
      "            Iterations: 17\n",
      "            Function evaluations: 141\n",
      "            Gradient evaluations: 17\n"
     ]
    }
   ],
   "source": [
    "#fit the AR(1)-GARCH(1,1)\n",
    "res = am.fit() #lowest NegL_opt(!!). Example of quality of pckge solutions"
   ]
  },
  {
   "cell_type": "code",
   "execution_count": 26,
   "metadata": {},
   "outputs": [
    {
     "data": {
      "text/plain": [
       "1214.8220109958463"
      ]
     },
     "execution_count": 26,
     "metadata": {},
     "output_type": "execute_result"
    }
   ],
   "source": [
    "res.loglikelihood"
   ]
  },
  {
   "cell_type": "markdown",
   "metadata": {},
   "source": [
    "**compare x_opt**"
   ]
  },
  {
   "cell_type": "code",
   "execution_count": 28,
   "metadata": {},
   "outputs": [
    {
     "data": {
      "text/html": [
       "<div>\n",
       "<style scoped>\n",
       "    .dataframe tbody tr th:only-of-type {\n",
       "        vertical-align: middle;\n",
       "    }\n",
       "\n",
       "    .dataframe tbody tr th {\n",
       "        vertical-align: top;\n",
       "    }\n",
       "\n",
       "    .dataframe thead th {\n",
       "        text-align: right;\n",
       "    }\n",
       "</style>\n",
       "<table border=\"1\" class=\"dataframe\">\n",
       "  <thead>\n",
       "    <tr style=\"text-align: right;\">\n",
       "      <th></th>\n",
       "      <th>arch_pckge()</th>\n",
       "      <th>local_no_bd ()</th>\n",
       "    </tr>\n",
       "  </thead>\n",
       "  <tbody>\n",
       "    <tr>\n",
       "      <th>0</th>\n",
       "      <td>-0.000139</td>\n",
       "      <td>-0.00005</td>\n",
       "    </tr>\n",
       "    <tr>\n",
       "      <th>1</th>\n",
       "      <td>0.812189</td>\n",
       "      <td>0.81233</td>\n",
       "    </tr>\n",
       "    <tr>\n",
       "      <th>2</th>\n",
       "      <td>0.002170</td>\n",
       "      <td>0.00217</td>\n",
       "    </tr>\n",
       "    <tr>\n",
       "      <th>3</th>\n",
       "      <td>0.819816</td>\n",
       "      <td>0.82202</td>\n",
       "    </tr>\n",
       "    <tr>\n",
       "      <th>4</th>\n",
       "      <td>0.008585</td>\n",
       "      <td>0.00767</td>\n",
       "    </tr>\n",
       "  </tbody>\n",
       "</table>\n",
       "</div>"
      ],
      "text/plain": [
       "   arch_pckge()  local_no_bd ()\n",
       "0     -0.000139        -0.00005\n",
       "1      0.812189         0.81233\n",
       "2      0.002170         0.00217\n",
       "3      0.819816         0.82202\n",
       "4      0.008585         0.00767"
      ]
     },
     "execution_count": 28,
     "metadata": {},
     "output_type": "execute_result"
    }
   ],
   "source": [
    "df_x = pd.DataFrame({\n",
    "                   \"arch_pckge()\": res.params.values,\n",
    "                  \"local_no_bd ()\": ar1_Garch11_params_optimal.x[:-1].round(5),\n",
    "})\n",
    "df_x"
   ]
  },
  {
   "cell_type": "markdown",
   "metadata": {},
   "source": [
    "**compare L_opt**"
   ]
  },
  {
   "cell_type": "code",
   "execution_count": 29,
   "metadata": {},
   "outputs": [
    {
     "data": {
      "text/html": [
       "<div>\n",
       "<style scoped>\n",
       "    .dataframe tbody tr th:only-of-type {\n",
       "        vertical-align: middle;\n",
       "    }\n",
       "\n",
       "    .dataframe tbody tr th {\n",
       "        vertical-align: top;\n",
       "    }\n",
       "\n",
       "    .dataframe thead th {\n",
       "        text-align: right;\n",
       "    }\n",
       "</style>\n",
       "<table border=\"1\" class=\"dataframe\">\n",
       "  <thead>\n",
       "    <tr style=\"text-align: right;\">\n",
       "      <th></th>\n",
       "      <th>arch_pckge(!,+)</th>\n",
       "      <th>local_no_bd (-)</th>\n",
       "    </tr>\n",
       "  </thead>\n",
       "  <tbody>\n",
       "    <tr>\n",
       "      <th>Neg_L_opt</th>\n",
       "      <td>1214.822011</td>\n",
       "      <td>-1213.896831</td>\n",
       "    </tr>\n",
       "  </tbody>\n",
       "</table>\n",
       "</div>"
      ],
      "text/plain": [
       "           arch_pckge(!,+)  local_no_bd (-)\n",
       "Neg_L_opt      1214.822011     -1213.896831"
      ]
     },
     "execution_count": 29,
     "metadata": {},
     "output_type": "execute_result"
    }
   ],
   "source": [
    "df_Lopt = pd.DataFrame({\n",
    "                   \"arch_pckge(!,+)\": res.loglikelihood,\n",
    "                  \"local_no_bd (-)\": ar1_Garch11_params_optimal.fun ,\n",
    "                    }, index=[\"Neg_L_opt\"])\n",
    " \n",
    "df_Lopt"
   ]
  },
  {
   "cell_type": "markdown",
   "metadata": {},
   "source": [
    "**Observation:**\n",
    "\n",
    " "
   ]
  },
  {
   "cell_type": "code",
   "execution_count": null,
   "metadata": {},
   "outputs": [],
   "source": []
  },
  {
   "cell_type": "code",
   "execution_count": null,
   "metadata": {},
   "outputs": [],
   "source": []
  }
 ],
 "metadata": {
  "kernelspec": {
   "display_name": "Python 3",
   "language": "python",
   "name": "python3"
  },
  "language_info": {
   "codemirror_mode": {
    "name": "ipython",
    "version": 3
   },
   "file_extension": ".py",
   "mimetype": "text/x-python",
   "name": "python",
   "nbconvert_exporter": "python",
   "pygments_lexer": "ipython3",
   "version": "3.7.6"
  }
 },
 "nbformat": 4,
 "nbformat_minor": 4
}
