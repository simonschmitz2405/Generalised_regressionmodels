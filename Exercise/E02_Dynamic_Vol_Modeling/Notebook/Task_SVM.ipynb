{
 "cells": [
  {
   "cell_type": "markdown",
   "metadata": {},
   "source": [
    "# Exercise for PhD students and interested Master students\n",
    "\n",
    "\n",
    "\n",
    "## Task (A): Simulating Returns from a Stochastic Volatility Model\n",
    "\n",
    "A.1 Set the seed to 123.\n",
    "\n",
    "A.2 Consider n=1000 time points. \n",
    "\n",
    "A.3 Parametrize the SVM as follows: sigma_bar = 0.35, phi=0.999, sigma2_eta = 0.2, sigma2_h0 = sigma2_eta / (1-phi^2), rho_r_h = -0.3\n",
    "\n",
    "A.4 Notice, returns are mean zero with this specification. Generate n=1000 draws of innovations for $r_t$ and $h_t$ according the SVM probability density function.\n",
    "\n",
    "A.5 Plot both innovation time series into a graph. Use blue for return innovations and orange for volatility innovations.\n",
    "\n",
    "A.6 Set h_0 = 0. Then, simulate n=1000 time points for h_t. \n",
    "\n",
    "A.7 Compute the time series for sigma_t.\n",
    "\n",
    "A.8 Plot the time series of this one path of realized volatility. \n",
    "\n",
    "A.9 Plot a histogram of realized return volatility.\n",
    "\n",
    "A.10 Visualize the time series of realized returns. \n",
    "\n",
    "A.11 Show a histogram for the realized returns."
   ]
  },
  {
   "cell_type": "code",
   "execution_count": 1,
   "metadata": {},
   "outputs": [],
   "source": [
    "import random"
   ]
  },
  {
   "cell_type": "code",
   "execution_count": 2,
   "metadata": {},
   "outputs": [],
   "source": [
    "random.seed(123)"
   ]
  },
  {
   "cell_type": "code",
   "execution_count": 3,
   "metadata": {},
   "outputs": [],
   "source": [
    "n = 1000"
   ]
  },
  {
   "cell_type": "code",
   "execution_count": null,
   "metadata": {},
   "outputs": [],
   "source": []
  }
 ],
 "metadata": {
  "kernelspec": {
   "display_name": "Python 3",
   "language": "python",
   "name": "python3"
  },
  "language_info": {
   "codemirror_mode": {
    "name": "ipython",
    "version": 3
   },
   "file_extension": ".py",
   "mimetype": "text/x-python",
   "name": "python",
   "nbconvert_exporter": "python",
   "pygments_lexer": "ipython3",
   "version": "3.11.5"
  }
 },
 "nbformat": 4,
 "nbformat_minor": 4
}
