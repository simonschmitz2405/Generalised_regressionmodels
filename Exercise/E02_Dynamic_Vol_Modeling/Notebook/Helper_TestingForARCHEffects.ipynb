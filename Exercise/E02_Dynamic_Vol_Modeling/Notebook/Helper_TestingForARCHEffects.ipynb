{
 "cells": [
  {
   "cell_type": "markdown",
   "metadata": {},
   "source": [
    "# Helper Functions for Showing how to Detect ARCH Effects\n",
    "\n",
    "- (i) lag_data(.): generates y and x consistent with a specific AR(lag) structure\n",
    "\n",
    "$$\n",
    "AND\n",
    "$$\n",
    "- (ii) ljung_box(.) also known as PortmanteauTest."
   ]
  },
  {
   "cell_type": "code",
   "execution_count": 1,
   "metadata": {},
   "outputs": [],
   "source": [
    "#necessary packages\n",
    "import numpy as np\n",
    "import pandas as pd\n",
    "import statsmodels.api as sm\n",
    "from scipy import stats"
   ]
  },
  {
   "cell_type": "markdown",
   "metadata": {},
   "source": [
    "**(i): Generate lagged data from existing data**"
   ]
  },
  {
   "cell_type": "code",
   "execution_count": 1,
   "metadata": {},
   "outputs": [],
   "source": [
    "def lag_data(data, lags):\n",
    "    nobs = data.shape[0]\n",
    "    \n",
    "    y_lag = data[lags : nobs]\n",
    "    x_lag = np.matrix(np.zeros( (nobs-lags) * lags).\n",
    "                      reshape( (nobs-lags), lags) )\n",
    "    \n",
    "    for i in range(1, lags+1):\n",
    "        x_lag[:,i-1] = data[ (lags-i) : (nobs-i) ].\\\n",
    "            reshape(nobs-lags, 1)\n",
    "        \n",
    "    return x_lag, y_lag"
   ]
  },
  {
   "cell_type": "markdown",
   "metadata": {},
   "source": [
    "**(ii): Portmanteau Test (i.e. Ljung-Box test) of AR(p) residulas to search for ARCH(m) effects**\n",
    "\n",
    "$$ H_0: \\rho_1 = \\rho_2 = ... = \\rho_m = 0$$\n",
    "$$ H_1 : \\rho_l \\neq 0\\ \\textrm{for some}\\ l \\in \\{1,...,m\\}$$\n",
    "$$ Q(m) = T(T+2)\\sum_{l=1}^{m} \\frac{\\hat{\\rho}_l^2}{T-l} \\overset{a}{\\sim} \\chi^2(m)$$\n",
    "where $\\rho_l$ is the l-th auto-correlation in the time series of squared residuals.\n"
   ]
  },
  {
   "cell_type": "code",
   "execution_count": null,
   "metadata": {},
   "outputs": [],
   "source": [
    "def Portmanteau_Test(data, p, m): \n",
    "\n",
    "    # Run OLS regression to obtain residuals of AR(p) model\n",
    "    #\n",
    "    Y = lag_data(data, p)[1]\n",
    "    X = sm.add_constant(lag_data(data, p)[0])\n",
    "    reg = sm.OLS(Y, X).fit()\n",
    "    resid = reg.resid\n",
    "\n",
    "    T = len(resid)\n",
    "\n",
    "    # Calculate auto-correlations in the squared residuals up to lag m\n",
    "    #\n",
    "    eps2_t = resid**2\n",
    "    # Iterate across all lags l up to m and calculate test-statistics Q(m)\n",
    "    #\n",
    "    total = 0\n",
    "\n",
    "    for l in range(1, m+1):\n",
    "        rho2 = pd.Series(eps2_t).autocorr(l)**2\n",
    "        total = total + rho2 / (T - l)\n",
    "\n",
    "    Q = T * (T+2) * total\n",
    "\n",
    "    pval = stats.chi2.pdf(Q, m)\n",
    "\n",
    "    return Q, pval"
   ]
  }
 ],
 "metadata": {
  "kernelspec": {
   "display_name": "Python 3",
   "language": "python",
   "name": "python3"
  },
  "language_info": {
   "codemirror_mode": {
    "name": "ipython",
    "version": 3
   },
   "file_extension": ".py",
   "mimetype": "text/x-python",
   "name": "python",
   "nbconvert_exporter": "python",
   "pygments_lexer": "ipython3",
   "version": "3.11.5"
  }
 },
 "nbformat": 4,
 "nbformat_minor": 4
}
