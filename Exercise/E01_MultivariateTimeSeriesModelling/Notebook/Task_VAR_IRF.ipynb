{
 "cells": [
  {
   "cell_type": "markdown",
   "metadata": {},
   "source": [
    "# Exercise for PhD students and interested Master students"
   ]
  },
  {
   "cell_type": "markdown",
   "metadata": {},
   "source": [
    "## Task: Loading Data\n",
    "\n",
    "1. Read-in interest rate data from ECB and realized equity returns from constituents of the Euro Stoxx 50. The data is in y_ecb_2004_2020_d.csv and in r_ES50_d_cleaned_realized.csv. All data has a daily frequency\n",
    "\n",
    "2. Check head(1) and tail(1) of the read-in data to ensure the loading worked.\n",
    "\n",
    "3. use the .info() command for the read-in data to learn what is in the data\n",
    "\n",
    "4. Merge both datasets onto the same time grid\n",
    "\n",
    "5. Use tail(3) to check the merge worked well.\n",
    "\n"
   ]
  },
  {
   "cell_type": "markdown",
   "metadata": {},
   "source": [
    "##  Brute-Force VAR(p) with Optimal p-Lag Length\n",
    "\n",
    "This task is to show you that you need to think about economic structure in your data. Simply running statistics on finance data produces non-sense results.\n",
    "\n",
    "This is a nice exercise to show you first hand that either solutions will not be computable or solutions you obtain look fine, yet, when, you check results carefully, you see that results are nonsensical.\n",
    "\n",
    "## Tak: Fit all variables into a VAR system. \n",
    "1. rely on statsmodels.ts.api import VAR\n",
    "\n",
    "2. Let the VAR function select the optimal lag order p with the command .select_order(22).\n",
    "\n",
    "3. Despite the error message in the previous task, fit a VAR(1) to the data. Look at equity t-stats and standard errors and the condition number. What might be going on here?\n",
    "\n",
    "4. The problem does not depend on scaling. Lets repeat step 3, but use z-scores for all variables. Look at resulting t-stats and evaluate whether the regression output makes sense or whether it is nonsensical. what might the reasons for such a behavior?"
   ]
  },
  {
   "cell_type": "markdown",
   "metadata": {},
   "source": [
    "## Task: VAR(1) on a Small Scale System\n",
    "\n",
    "Equity returns and bond yields did exhibit multi-collinearity. You spot that from the condition number and / or from economic thinking. \n",
    "\n",
    "Financial data is characterized by a rather small amount of underlying factors to drive equity returns. The same holds for bond returns. \n",
    "\n",
    "To get a first look at a financial system, do therefore work with the most important factor for equity and the most important factor for bonds.\n",
    "\n",
    "Hence, use the supplied PCA library to extract PC1 for bond yields and PC1 for equity returns. \n",
    "\n",
    "1. Plot both PCs into one graph. Eye bowl the data to look for predictability and volatility clustering.\n",
    "\n",
    "2. Fit a VAR(1) to [PC1(equity), PC1(bond yields)). \n",
    "\n",
    "3. Does the summary table for the VAR(1) provide evidence of cross asset market predictability?\n",
    "\n",
    "4. Compute Impulse Response Functions for the next 5 days. Compute 90% asymptotic confidence bounds with orthogonalized errors. \n",
    "\n",
    "5. Summarize whether there is s"
   ]
  }
 ],
 "metadata": {
  "kernelspec": {
   "display_name": "Python 3",
   "language": "python",
   "name": "python3"
  },
  "language_info": {
   "codemirror_mode": {
    "name": "ipython",
    "version": 3
   },
   "file_extension": ".py",
   "mimetype": "text/x-python",
   "name": "python",
   "nbconvert_exporter": "python",
   "pygments_lexer": "ipython3",
   "version": "3.7.6"
  }
 },
 "nbformat": 4,
 "nbformat_minor": 4
}
