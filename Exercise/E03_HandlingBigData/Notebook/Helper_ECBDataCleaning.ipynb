{
 "cells": [
  {
   "cell_type": "markdown",
   "metadata": {},
   "source": [
    "# Class: ECB Rates"
   ]
  },
  {
   "cell_type": "code",
   "execution_count": null,
   "metadata": {},
   "outputs": [],
   "source": [
    " "
   ]
  },
  {
   "cell_type": "code",
   "execution_count": 2,
   "metadata": {},
   "outputs": [],
   "source": [
    "import pandas as pd\n",
    " \n",
    "\n",
    "class ECB_Yields():\n",
    "    \n",
    "    def __init__(self, y_raw):  \n",
    "        #input: y_ecb_raw: pandas data frame of a csv file that was downloaded from https://www.ecb.europa.eu/stats/financial_markets_and_interest_rates/euro_area_yield_curves/html/index.en.html\n",
    "        self.y_ecb_raw = y_raw\n",
    "        self.y_ecb = []\n",
    "  \n",
    "    def GetFirstThreeLetters(self, input_string):\n",
    "        return(input_string[0:3])\n",
    "        \n",
    "    def ExtractSpotRates(self, maturities):\n",
    "        #get useful information from y_ecb_raw\n",
    "        self.y_ecb = self.y_ecb_raw[['DATA_TYPE_FM', 'TIME_PERIOD', 'OBS_VALUE']].copy()           #keep\n",
    "        self.y_ecb['TIME_PERIOD'] = pd.to_datetime(self.y_ecb['TIME_PERIOD'], format = '%Y-%m-%d') # index\n",
    "        self.y_ecb = self.y_ecb.set_index('TIME_PERIOD')                                           #set index\n",
    "        \n",
    "        #extract content out of 'DATA_TYPE_FM'\n",
    "        self.y_ecb['Content'] = self.y_ecb['DATA_TYPE_FM'].apply(self.GetFirstThreeLetters) \n",
    "        \n",
    "        #keep only spot rates in y_ecb\n",
    "        self.y_ecb = self.y_ecb[self.y_ecb['Content']=='SR_'] #keep rows that start with 'SR_' in column 'YIELD_TYPE'\n",
    "            \n",
    "        #keep only spot rates with desired maturity\n",
    "        yield_3m = self.y_ecb[self.y_ecb['DATA_TYPE_FM'] == 'SR_3M'] #is needed to set length of y_df\n",
    "        y_df = pd.DataFrame(index = yield_3m.index) \n",
    "\n",
    "        for i in maturities:\n",
    "            SR_name = str(i) + ' Y'    \n",
    "    \n",
    "            if i==1/12:\n",
    "                y_df[SR_name] = self.y_ecb[self.y_ecb['DATA_TYPE_FM']=='SR_'+ str(1) + 'M']['OBS_VALUE'] \n",
    "            elif i==3/12:\n",
    "                y_df[SR_name] = self.y_ecb[self.y_ecb['DATA_TYPE_FM']=='SR_'+ str(3) + 'M']['OBS_VALUE']\n",
    "            elif i==6/12:\n",
    "                y_df[SR_name] = self.y_ecb[self.y_ecb['DATA_TYPE_FM']=='SR_'+ str(6) + 'M']['OBS_VALUE']\n",
    "            elif i==9/12:\n",
    "                y_df[SR_name] = self.y_ecb[self.y_ecb['DATA_TYPE_FM']=='SR_'+ str(9) + 'M']['OBS_VALUE']\n",
    "            else:\n",
    "                y_df[SR_name] = self.y_ecb[self.y_ecb['DATA_TYPE_FM']=='SR_'+ str(i) + 'Y']['OBS_VALUE']\n",
    "\n",
    "        self.y_ecb = y_df\n",
    "        del y_df\n",
    "        \n",
    "        return self.y_ecb\n",
    "        \n",
    "\n",
    " "
   ]
  }
 ],
 "metadata": {
  "kernelspec": {
   "display_name": "Python 3",
   "language": "python",
   "name": "python3"
  },
  "language_info": {
   "codemirror_mode": {
    "name": "ipython",
    "version": 3
   },
   "file_extension": ".py",
   "mimetype": "text/x-python",
   "name": "python",
   "nbconvert_exporter": "python",
   "pygments_lexer": "ipython3",
   "version": "3.7.6"
  }
 },
 "nbformat": 4,
 "nbformat_minor": 4
}
