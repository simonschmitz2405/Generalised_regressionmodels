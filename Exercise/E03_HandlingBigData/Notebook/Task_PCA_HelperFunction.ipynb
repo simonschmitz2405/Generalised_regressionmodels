{
 "cells": [
  {
   "cell_type": "markdown",
   "metadata": {},
   "source": [
    "# Exercise for PhD students and interested Master students\n",
    "\n",
    "## Task (A): Helper Function for PCA\n",
    "\n",
    "A.1 Write down the algorithm of a principal component analysis. Let X denote the matrix of variables and PC(X) be the corresponding matrix of principal components. Use the markdown capability of the ipynb for the tex commands.\n",
    "\n",
    "A.2 Write a function called GetPCs. It takes a panel of stationary data as input and returns the matrix of eigenvalues (Lambda), the matrix of eigenvectors (E) and the panel of principal components.\n",
    "\n",
    "Hint: use the numpy.linalg.eig() function to extract eigenvalues and eigenvectors from the covariance matrix of X. \n",
    "\n",
    "\n",
    "\n",
    "## Task (B): Testing the Function GetPCs\n",
    "\n",
    "B.1 Read-in daily return data of Euro Stoxx 50 constituents from the file r_ES50_d_cleaned_realized.csv\n",
    "\n",
    "B.2 Plot the first three principal components of daily returns of Euro Stoxx 50 constituents. \n",
    "\n",
    "B3. How much relative variance does each principal component explain?\n",
    "\n",
    "B.4 Double check your solution for B.3 by using the built-in function in sklearn. Hint: from sklearn.decomposition import PCA \n",
    "\n",
    "\n",
    "## Task (C): Object-oriented Coding\n",
    "\n",
    "C.1 Write a class called PCA. The class contains its own functions:  \n",
    "\n",
    "(i)  PerformEigenValueDecomposition(self) which conducts the PCA\n",
    "(ii) display_cumVarTable(self) which displays the cumulative variance table for principle components\n",
    "(iii) plotPC(self,threshold) which plots PC1 to PC_threshold\n",
    "   \n",
    "C.2 Test that the class PCA produces same results than B.2 and B.3."
   ]
  },
  {
   "cell_type": "code",
   "execution_count": null,
   "metadata": {},
   "outputs": [],
   "source": []
  }
 ],
 "metadata": {
  "kernelspec": {
   "display_name": "Python 3",
   "language": "python",
   "name": "python3"
  },
  "language_info": {
   "codemirror_mode": {
    "name": "ipython",
    "version": 3
   },
   "file_extension": ".py",
   "mimetype": "text/x-python",
   "name": "python",
   "nbconvert_exporter": "python",
   "pygments_lexer": "ipython3",
   "version": "3.7.6"
  }
 },
 "nbformat": 4,
 "nbformat_minor": 4
}
