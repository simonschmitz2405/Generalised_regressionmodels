{
 "cells": [
  {
   "cell_type": "markdown",
   "metadata": {},
   "source": [
    "# Exercise for PhD students and interested Master students"
   ]
  },
  {
   "cell_type": "markdown",
   "metadata": {},
   "source": [
    "## Task (A): Getting Euro Area Yield Data\n",
    "\n",
    "A.1 Load-in ECB yield from 2004 to 2019 and from 2019 to 2020; i.e. EuroArea_YC_upto2019.csv, EuroArea_YC_2020.csv\n",
    "\n",
    "A.2 From the helper function Helper_ECBDataCleaning import ECB_Yields, convert read-in ECB yields to spot rates for maturities 3/12, 6/12, 1, 2, 3, 5, 7, 10, 20, 30 years.\n",
    "\n",
    "A.3 Create a pandas dataframe called y_ecb. This dataframe contains spot rates from 2004 to 2020 for all maturities from A.2. Free up storage by removing variables that you do not need anymore.\n",
    "\n",
    "\n",
    "## Task (B): PCA on Euro Area Spot Rates\n",
    "\n",
    "B.1 Display the cumulative variance explained table for Euro area spot rates from A.3.\n",
    "\n",
    "B.2 How much variance in Euro area spot rates is explained by the first principal component? How much is explained by the first two principal components?\n",
    "\n",
    "B.3 Plot the time series of the two most influential principal components.\n",
    "\n",
    "\n",
    "## Task (C): Forecasting PC1\n",
    "\n",
    "C.1 Rely on the BIC criterium to learn the optimal lag structure in an AR(p) model for the most influential principal component (PC1). Hint: import statsmodels.tsa.ar_model \n",
    "\n",
    "C.2 Fit a AR(p) model with optimal lag structure from C.1 to PC1. Hint: you can use a package such as the fit function in ARMA package in the statsmodels.\n",
    "\n",
    "C.3 Use C.2 to compute $E_T[PC1_{T+k}]$ for $k = [1,2,...,2520]$. \n",
    "\n",
    "\n",
    "## Task (D): Rotate PC1 Forecasts into Forecasts of all 10 Spot Rates\n",
    "\n",
    "D.1 Use C.3 and compute k-period ahead forecasts for all 10 spot rates and for $k = [1,2,...,2520]$. \n",
    "\n"
   ]
  },
  {
   "cell_type": "code",
   "execution_count": 1,
   "metadata": {},
   "outputs": [],
   "source": [
    "import pandas as pd\n",
    "import numpy as np\n",
    "import time as time\n",
    "\n",
    "import matplotlib\n",
    "import matplotlib.pyplot       as plt\n",
    "matplotlib.style.use('ggplot')\n",
    "%matplotlib tk"
   ]
  },
  {
   "cell_type": "markdown",
   "metadata": {},
   "source": [
    "## Solution A.1"
   ]
  },
  {
   "cell_type": "code",
   "execution_count": 2,
   "metadata": {},
   "outputs": [],
   "source": [
    "y_ecb_raw_2019 = pd.read_csv('EuroArea_YC_upto2019.csv') #data up to 2019\n",
    "y_ecb_raw_2020 = pd.read_csv('EuroArea_YC_2020.csv')     #2020 data"
   ]
  },
  {
   "cell_type": "markdown",
   "metadata": {},
   "source": [
    "## Solution A.2"
   ]
  },
  {
   "cell_type": "code",
   "execution_count": 3,
   "metadata": {},
   "outputs": [],
   "source": [
    "from ipynb.fs.defs.Helper_ECBDataCleaning import ECB_Yields\n",
    "\n",
    "#initialize class\n",
    "ECB_Yields_2019_ = ECB_Yields(y_ecb_raw_2019)\n",
    "ECB_Yields_2020_ = ECB_Yields(y_ecb_raw_2020)\n",
    "\n",
    "# maturities of interest\n",
    "maturities = [3/12, 6/12, 1,2,3,5,7,10,20,30]\n",
    "\n",
    "#extract spot rates\n",
    "y_ecb_2019       = ECB_Yields_2019_.ExtractSpotRates(maturities)\n",
    "y_ecb_2020       = ECB_Yields_2020_.ExtractSpotRates(maturities)"
   ]
  },
  {
   "cell_type": "markdown",
   "metadata": {},
   "source": [
    "## Solution A.3"
   ]
  },
  {
   "cell_type": "code",
   "execution_count": 4,
   "metadata": {},
   "outputs": [],
   "source": [
    "y_ecb = y_ecb_2019.append(y_ecb_2020)\n",
    "\n",
    "#free up unneeded storage\n",
    "del y_ecb_raw_2019\n",
    "del y_ecb_raw_2020\n",
    "del y_ecb_2019\n",
    "del y_ecb_2020\n",
    "del ECB_Yields_2019_\n",
    "del ECB_Yields_2020_"
   ]
  },
  {
   "cell_type": "code",
   "execution_count": 5,
   "metadata": {},
   "outputs": [
    {
     "data": {
      "text/html": [
       "<div>\n",
       "<style scoped>\n",
       "    .dataframe tbody tr th:only-of-type {\n",
       "        vertical-align: middle;\n",
       "    }\n",
       "\n",
       "    .dataframe tbody tr th {\n",
       "        vertical-align: top;\n",
       "    }\n",
       "\n",
       "    .dataframe thead th {\n",
       "        text-align: right;\n",
       "    }\n",
       "</style>\n",
       "<table border=\"1\" class=\"dataframe\">\n",
       "  <thead>\n",
       "    <tr style=\"text-align: right;\">\n",
       "      <th></th>\n",
       "      <th>0.25 Y</th>\n",
       "      <th>0.5 Y</th>\n",
       "      <th>1 Y</th>\n",
       "      <th>2 Y</th>\n",
       "      <th>3 Y</th>\n",
       "      <th>5 Y</th>\n",
       "      <th>7 Y</th>\n",
       "      <th>10 Y</th>\n",
       "      <th>20 Y</th>\n",
       "      <th>30 Y</th>\n",
       "    </tr>\n",
       "    <tr>\n",
       "      <th>TIME_PERIOD</th>\n",
       "      <th></th>\n",
       "      <th></th>\n",
       "      <th></th>\n",
       "      <th></th>\n",
       "      <th></th>\n",
       "      <th></th>\n",
       "      <th></th>\n",
       "      <th></th>\n",
       "      <th></th>\n",
       "      <th></th>\n",
       "    </tr>\n",
       "  </thead>\n",
       "  <tbody>\n",
       "    <tr>\n",
       "      <th>2004-09-06</th>\n",
       "      <td>2.001665</td>\n",
       "      <td>2.102528</td>\n",
       "      <td>2.297177</td>\n",
       "      <td>2.655494</td>\n",
       "      <td>2.971161</td>\n",
       "      <td>3.483732</td>\n",
       "      <td>3.86532</td>\n",
       "      <td>4.262767</td>\n",
       "      <td>4.853754</td>\n",
       "      <td>5.056951</td>\n",
       "    </tr>\n",
       "  </tbody>\n",
       "</table>\n",
       "</div>"
      ],
      "text/plain": [
       "               0.25 Y     0.5 Y       1 Y       2 Y       3 Y       5 Y  \\\n",
       "TIME_PERIOD                                                               \n",
       "2004-09-06   2.001665  2.102528  2.297177  2.655494  2.971161  3.483732   \n",
       "\n",
       "                 7 Y      10 Y      20 Y      30 Y  \n",
       "TIME_PERIOD                                         \n",
       "2004-09-06   3.86532  4.262767  4.853754  5.056951  "
      ]
     },
     "execution_count": 5,
     "metadata": {},
     "output_type": "execute_result"
    }
   ],
   "source": [
    "y_ecb.head(1)"
   ]
  },
  {
   "cell_type": "markdown",
   "metadata": {},
   "source": [
    "## Solution B.1"
   ]
  },
  {
   "cell_type": "code",
   "execution_count": 6,
   "metadata": {},
   "outputs": [],
   "source": [
    "from ipynb.fs.defs.Helper_PCA import PCA\n",
    "\n",
    "#initialize class\n",
    "PCA_ = PCA(y_ecb)\n",
    "\n",
    "#run PCA\n",
    "PCA_.PerformEigenValueDecomposition()"
   ]
  },
  {
   "cell_type": "code",
   "execution_count": 7,
   "metadata": {},
   "outputs": [
    {
     "name": "stdout",
     "output_type": "stream",
     "text": [
      "[0.91872932 0.99452827 0.99803265 0.99950891 0.99983503 0.99998474\n",
      " 0.99999672 0.99999986 0.99999999 1.        ]\n"
     ]
    }
   ],
   "source": [
    "#Variance Explained Table\n",
    "PCA_.display_cumVarTable()"
   ]
  },
  {
   "cell_type": "markdown",
   "metadata": {},
   "source": [
    "## Solution B.2\n",
    "\n",
    "1. One PC alone explains 92% of variation in all yields (inkl Greece, Italian debt)\n",
    "\n",
    "2. 2 PCs explain entire euro-area YC"
   ]
  },
  {
   "cell_type": "code",
   "execution_count": 8,
   "metadata": {},
   "outputs": [],
   "source": [
    "#plot PC1,PC2\n",
    "PCA_.plotPC(2)"
   ]
  },
  {
   "cell_type": "code",
   "execution_count": null,
   "metadata": {},
   "outputs": [],
   "source": []
  },
  {
   "cell_type": "markdown",
   "metadata": {},
   "source": [
    "## Solution C.1"
   ]
  },
  {
   "cell_type": "code",
   "execution_count": 9,
   "metadata": {},
   "outputs": [
    {
     "name": "stderr",
     "output_type": "stream",
     "text": [
      "/Users/maximulrich/opt/anaconda3/lib/python3.7/site-packages/statsmodels/tsa/ar_model.py:691: FutureWarning: \n",
      "statsmodels.tsa.AR has been deprecated in favor of statsmodels.tsa.AutoReg and\n",
      "statsmodels.tsa.SARIMAX.\n",
      "\n",
      "AutoReg adds the ability to specify exogenous variables, include time trends,\n",
      "and add seasonal dummies. The AutoReg API differs from AR since the model is\n",
      "treated as immutable, and so the entire specification including the lag\n",
      "length must be specified when creating the model. This change is too\n",
      "substantial to incorporate into the existing AR api. The function\n",
      "ar_select_order performs lag length selection for AutoReg models.\n",
      "\n",
      "AutoReg only estimates parameters using conditional MLE (OLS). Use SARIMAX to\n",
      "estimate ARX and related models using full MLE via the Kalman Filter.\n",
      "\n",
      "To silence this warning and continue using AR until it is removed, use:\n",
      "\n",
      "import warnings\n",
      "warnings.filterwarnings('ignore', 'statsmodels.tsa.ar_model.AR', FutureWarning)\n",
      "\n",
      "  warnings.warn(AR_DEPRECATION_WARN, FutureWarning)\n"
     ]
    },
    {
     "data": {
      "text/plain": [
       "2"
      ]
     },
     "execution_count": 9,
     "metadata": {},
     "output_type": "execute_result"
    }
   ],
   "source": [
    "#packages\n",
    "import statsmodels.tsa.ar_model as ar_model\n",
    "\n",
    "#initialize AR class with PC1(y_ecb)\n",
    "AR_model_ = ar_model.AR(PCA_.PC[:,0])\n",
    "\n",
    "#BIC test for up to 10 lags\n",
    "BIC_test = AR_model_.fit(method='mle', ic='bic', maxlags=10)\n",
    "\n",
    "#optimal BIC lag length\n",
    "BIC_test.k_ar"
   ]
  },
  {
   "cell_type": "markdown",
   "metadata": {},
   "source": [
    "## Solution C.2"
   ]
  },
  {
   "cell_type": "code",
   "execution_count": 10,
   "metadata": {},
   "outputs": [
    {
     "name": "stdout",
     "output_type": "stream",
     "text": [
      "                              ARMA Model Results                              \n",
      "==============================================================================\n",
      "Dep. Variable:                      y   No. Observations:                 4067\n",
      "Model:                     ARMA(2, 0)   Log Likelihood                3829.335\n",
      "Method:                           mle   S.D. of innovations              0.094\n",
      "Date:                Thu, 08 Feb 2024   AIC                          -7650.670\n",
      "Time:                        16:32:16   BIC                          -7625.428\n",
      "Sample:                             0   HQIC                         -7641.730\n",
      "                                                                              \n",
      "==============================================================================\n",
      "                 coef    std err          z      P>|z|      [0.025      0.975]\n",
      "------------------------------------------------------------------------------\n",
      "const         -0.7748      4.174     -0.186      0.853      -8.955       7.405\n",
      "ar.L1.y        1.1399      0.006    205.224      0.000       1.129       1.151\n",
      "ar.L2.y       -0.1401      0.006    -25.226      0.000      -0.151      -0.129\n",
      "                                    Roots                                    \n",
      "=============================================================================\n",
      "                  Real          Imaginary           Modulus         Frequency\n",
      "-----------------------------------------------------------------------------\n",
      "AR.1            1.0002           +0.0000j            1.0002            0.0000\n",
      "AR.2            7.1339           +0.0000j            7.1339            0.0000\n",
      "-----------------------------------------------------------------------------\n"
     ]
    }
   ],
   "source": [
    "#FIT AR(2) to PC1(y_ecb)\n",
    "#packages\n",
    "import statsmodels.api as sm\n",
    "\n",
    "ar2_model = sm.tsa.ARMA(PCA_.PC[:,0], order=(2,0)) #AR(2) for PC1(y_ecb)\n",
    "ar2_results = ar2_model.fit(method='mle')           #fit AR(2) to PC1(y_ecb) using MLE\n",
    "print(ar2_results.summary())            # print regression table"
   ]
  },
  {
   "cell_type": "code",
   "execution_count": null,
   "metadata": {},
   "outputs": [],
   "source": [
    " "
   ]
  },
  {
   "cell_type": "markdown",
   "metadata": {},
   "source": [
    "## Solution C.3"
   ]
  },
  {
   "cell_type": "code",
   "execution_count": 11,
   "metadata": {},
   "outputs": [],
   "source": [
    "#E_T[PC1(T+K)], K \\in {1,2,...,2520}\n",
    "h = 2520 #forecastHorizon\n",
    "E_PC_h = ar2_results.forecast(steps=h)[0] \n",
    "E_PC_h = E_PC_h.reshape((E_PC_h.shape[0],1))"
   ]
  },
  {
   "cell_type": "markdown",
   "metadata": {},
   "source": [
    "## Solution D.1 "
   ]
  },
  {
   "cell_type": "code",
   "execution_count": 12,
   "metadata": {},
   "outputs": [],
   "source": [
    "#E_T[y_ecb(T+K)], K \\in {1,2,...,h}\n",
    "\n",
    "# mean: 1x10\n",
    "mean_y_ecb = y_ecb.mean().to_numpy()\n",
    "mean_y_ecb = mean_y_ecb.reshape((1,y_ecb.shape[1]))\n",
    "\n",
    "# \n",
    "E_y_h = np.zeros((h,y_ecb.shape[1]))\n",
    "for i in range(0,h):\n",
    "    E_y_h[i,:] = mean_y_ecb + E_PC_h[i,0] * PCA_.E[:,0].T"
   ]
  },
  {
   "cell_type": "code",
   "execution_count": null,
   "metadata": {},
   "outputs": [],
   "source": []
  }
 ],
 "metadata": {
  "kernelspec": {
   "display_name": "Python 3",
   "language": "python",
   "name": "python3"
  },
  "language_info": {
   "codemirror_mode": {
    "name": "ipython",
    "version": 3
   },
   "file_extension": ".py",
   "mimetype": "text/x-python",
   "name": "python",
   "nbconvert_exporter": "python",
   "pygments_lexer": "ipython3",
   "version": "3.7.6"
  }
 },
 "nbformat": 4,
 "nbformat_minor": 4
}
