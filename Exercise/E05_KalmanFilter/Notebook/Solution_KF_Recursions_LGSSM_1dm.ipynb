{
 "cells": [
  {
   "cell_type": "markdown",
   "metadata": {},
   "source": [
    "# Exercise for PhD students and interested Master students\n",
    "\n",
    "## Task (A): Object oriented Kalman Filter Recursions\n",
    "\n",
    "A.1 Write a class called KalmanFilter_Recursions_1dim. The class computes for the one dimensional Linear Gaussian State Space Model the Kalman Filter recursions for prior mean and variance as well as posterior mean and variance of the hidden univariate state variable."
   ]
  },
  {
   "cell_type": "markdown",
   "metadata": {},
   "source": [
    "## Solution to A.1 "
   ]
  },
  {
   "cell_type": "code",
   "execution_count": 1,
   "metadata": {},
   "outputs": [],
   "source": [
    "#packages\n",
    "import numpy as np"
   ]
  },
  {
   "cell_type": "code",
   "execution_count": null,
   "metadata": {},
   "outputs": [],
   "source": [
    "#KalmanFilter Recursions for 1dim LGSSM\n",
    "##notation as in class notes\n",
    "\n",
    "class KalmanFilter_Recursions_1dim(object): #with uninformative prior\n",
    "    \n",
    "    def __init__(self,y,a, B, H, c, Phi, Q ):\n",
    "        #T: nr of observations\n",
    "        self.y   = y      #y and alpha are 1dim\n",
    "        self.a   = a\n",
    "        self.B   = B\n",
    "        self.H   = H\n",
    "        self.c   = c\n",
    "        self.Phi = Phi\n",
    "        self.Q   = Q\n",
    "        \n",
    "        \n",
    "    def instantiateRecursions(self):\n",
    "        T = len(self.y)\n",
    "        K   = np.zeros((T,1))    #KalmanGain\n",
    "        v   = np.zeros((T,1))    #y_t - E_{t-1}(y_t)\n",
    "        at  = np.zeros((T,1))     #E_t(alpha_t)\n",
    "        atm1= np.zeros((T+1,1))   #E_{t-1}(alpha_t)\n",
    "        Pt  = np.zeros((T,1))     #Var_t(alpha_t)\n",
    "        Ptm1= np.zeros((T+1,1))   #Var_{t-1}(alpha_t)\n",
    "        \n",
    "        #uninformative prior about alpha_1\\F_0\n",
    "        Ptm1[0] = np.exp(12)  \n",
    "        atm1[0] = 0 \n",
    "        \n",
    "        return K,v,at,atm1,Pt,Ptm1\n",
    "\n",
    "    \n",
    "    def runRecursions(self): \n",
    "        #instantiate variables\n",
    "        K,v,at,atm1,Pt,Ptm1 = self.instantiateRecursions()\n",
    "        \n",
    "        for t in range(0,len(self.y)):\n",
    "            #learning in t\n",
    "            K[t] = Ptm1[t] * self.B.getT() * (self.B * Ptm1[t] * self.B.getT() + self.H).getI()\n",
    "            v[t] = self.y[t] - self.B * atm1[t] - self.a\n",
    "            \n",
    "            # posterior in t\n",
    "            at[t] = atm1[t] + K[t] * v[t]\n",
    "            Pt[t] = Ptm1[t] * (1 - K[t] * self.B)\n",
    "            \n",
    "            # prior in t for tp1\n",
    "            atm1[t+1] = self.Phi * at[t] + self.c\n",
    "            Ptm1[t+1] = self.Phi * Pt[t] * self.Phi.getT() + self.Q\n",
    "\n",
    "        return at, Pt, atm1, Ptm1"
   ]
  }
 ],
 "metadata": {
  "kernelspec": {
   "display_name": "Python 3",
   "language": "python",
   "name": "python3"
  },
  "language_info": {
   "codemirror_mode": {
    "name": "ipython",
    "version": 3
   },
   "file_extension": ".py",
   "mimetype": "text/x-python",
   "name": "python",
   "nbconvert_exporter": "python",
   "pygments_lexer": "ipython3",
   "version": "3.7.6"
  }
 },
 "nbformat": 4,
 "nbformat_minor": 4
}
