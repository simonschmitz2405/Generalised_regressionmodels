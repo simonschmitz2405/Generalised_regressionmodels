{
 "cells": [
  {
   "cell_type": "markdown",
   "metadata": {},
   "source": [
    "# Exercise for PhD students and interested Master students\n",
    "\n",
    "## Task (A): Object oriented Kalman Filter Recursions\n",
    "\n",
    "A.1 Write a class called KalmanFilter_Recursions_1dim. The class computes for the one dimensional Linear Gaussian State Space Model the Kalman Filter recursions for prior mean and variance as well as posterior mean and variance of the hidden univariate state variable."
   ]
  }
 ],
 "metadata": {
  "kernelspec": {
   "display_name": "Python 3",
   "language": "python",
   "name": "python3"
  },
  "language_info": {
   "codemirror_mode": {
    "name": "ipython",
    "version": 3
   },
   "file_extension": ".py",
   "mimetype": "text/x-python",
   "name": "python",
   "nbconvert_exporter": "python",
   "pygments_lexer": "ipython3",
   "version": "3.7.6"
  }
 },
 "nbformat": 4,
 "nbformat_minor": 4
}
