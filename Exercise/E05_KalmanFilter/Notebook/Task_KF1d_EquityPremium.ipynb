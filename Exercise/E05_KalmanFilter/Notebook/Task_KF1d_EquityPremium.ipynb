{
 "cells": [
  {
   "cell_type": "markdown",
   "metadata": {},
   "source": [
    "# Exercise for PhD students and interested Master students\n",
    "\n",
    "## Task (A): Simulate Realized- vs-Expected Equity Return Model\n",
    "\n",
    "A.1 Set the seed to 123. Treat number of time points T and parameters as hyperparameters. For a start, use the default values T=100, phi = 0.94, sigma_x = 0.01, sigma_r = 0.24, rho = -0.8. Simulate one path of r_t and x_t for T observations.\n",
    "\n",
    "A.2 Plot the realized time-series of r_t and x_t. Use black ink for x_t and red ink for r_t\n",
    "\n",
    "\n",
    "## Task (B): Kalman Filtering x_t based on r_t\n",
    "\n",
    "B.1 Plot prior and posterior mean of Kalman filter estimate for x_t together with r_t and the true x_t."
   ]
  },
  {
   "cell_type": "code",
   "execution_count": null,
   "metadata": {},
   "outputs": [],
   "source": []
  },
  {
   "cell_type": "markdown",
   "metadata": {},
   "source": [
    "# Model Framework"
   ]
  },
  {
   "cell_type": "markdown",
   "metadata": {},
   "source": [
    "#### We Work here with our own simulated, yet realistic, Realized-vs-Expected Return-Model\n",
    "\n",
    "$$\n",
    "\\\\\n",
    "$$\n",
    " \n",
    "\\begin{equation}\n",
    "      r_{t} = x_{t} + \\sigma_r  \\delta_{t}, \\; \\delta_t \\sim N(0,1)\n",
    "\\end{equation}\n",
    "\\begin{equation}\n",
    "      x_{t} = \\phi  x_{t-1} + \\sigma_x  \\epsilon_{t}, \\; \\epsilon_{t} \\sim N(0,1)\n",
    "\\end{equation}\n",
    "\n",
    "$$\n",
    "\\\\\n",
    "$$\n",
    " "
   ]
  },
  {
   "cell_type": "markdown",
   "metadata": {},
   "source": [
    "**Parametrization:** We work with KNOWN parameters:\n",
    "        \n",
    "$$\n",
    "\\phi \\in (-1,1)\n",
    "$$\n",
    "\n",
    "$$\n",
    "\\sigma_x \\in \\mathcal{R}_+\n",
    "$$\n",
    "\n",
    "$$\n",
    "\\sigma_r = \\in \\mathcal{R}_+\n",
    "$$\n",
    "\n",
    "$$\n",
    "E[\\delta_t e_t] =:\\rho \\in [-1,1]\n",
    "$$\n",
    "\n",
    "$$\n",
    "\\\\\n",
    "$$\n",
    "\n",
    "**Signal-to-Noise-Ratio (SNR)** KF identifies $x$ only precisely if data is informative (i.e. better: SNR is away from zero, i.e. $SNR \\rightarrow 1$)\n",
    "\n",
    "$$\n",
    "SNR := \\frac{\\sigma_x}{\\sigma_r} \\; \\in (0,1)\n",
    "$$"
   ]
  },
  {
   "cell_type": "code",
   "execution_count": null,
   "metadata": {},
   "outputs": [],
   "source": []
  }
 ],
 "metadata": {
  "kernelspec": {
   "display_name": "Python 3",
   "language": "python",
   "name": "python3"
  },
  "language_info": {
   "codemirror_mode": {
    "name": "ipython",
    "version": 3
   },
   "file_extension": ".py",
   "mimetype": "text/x-python",
   "name": "python",
   "nbconvert_exporter": "python",
   "pygments_lexer": "ipython3",
   "version": "3.7.6"
  }
 },
 "nbformat": 4,
 "nbformat_minor": 2
}
