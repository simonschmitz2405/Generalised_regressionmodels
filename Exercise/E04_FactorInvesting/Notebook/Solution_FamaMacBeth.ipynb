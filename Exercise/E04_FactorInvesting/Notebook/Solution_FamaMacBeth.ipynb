{
 "cells": [
  {
   "cell_type": "markdown",
   "metadata": {},
   "source": [
    "# Exercise for PhD students and interested Master students\n",
    "\n",
    "We want to learn whether European equity markets pay a premium for taking on systematic risks.\n",
    "\n",
    "\n",
    "## Task (A): Reading-in Data\n",
    "\n",
    "A.1 Load daily equity returns of Euro Stoxx 50 constituents, i.e. r_ES50_d_cleaned_realized.csv\n",
    "\n",
    "A.2 Load daily Euro spot rates, i.e. r_ecb_2004_2020_d.csv\n",
    "\n",
    "A.3 Load daily return data from the Fama French database (market, size, HML), i.e. FF5_d.csv\n",
    "\n",
    "\n",
    "## Task (B): Preparing Data\n",
    "\n",
    "B.1 Treat 3 month spot rate as the risk-free rate. Merge data into a pandas dataframe called data_eu_f. \n",
    "\n",
    "B.2 Notice, the read-in data has different scalings right now. Risk-free rate is in annualized %, equity returns are in daily decimals, Fama French factors are in daily %. Bring data_eu_f into daily decimals. Also, ensure to swap the market return from Fama and French with the 1/N portfolio return from r_ES50_d_cleaned_realized.csv. Notice, we swap the market return again with the excess market return, meaning you need to subtract the the risk-free rate. Hint: when going from annual to daily we assume 252 days convention (252 days = 1 year).\n",
    "\n",
    "## Task (C): Fama-MacBeth Regressions\n",
    "\n",
    "C.1 Write a function called GetBeta. It takes as input data_eu_f as well as the ticker names. The function returns factor loadings of each ticker. Loadings are computed with regard to the factors markets' excess return, SMB, HML, RMB and CMA.\n",
    "Hint: Use GLS regressions\n",
    "Hint: Use statsmodels package for GLS regressions\n",
    "Hint: you regress excess returns onto the factors\n",
    "Hint: Adidas has the following loadings: -0.24 (CMA), -0.098 (HML), 0.85 (MKT), 0.05 (RMW), 0.09 (SMB)\n",
    "\n",
    "\n",
    "C.2 Write a function called GetLambda. The function takes as input data_eu_f and the loadings from C.1. The function runs cross-sectional regressions for each time point t and returns a matrix. The rows contains time periods whereas the columns contain the date-t realized market prices for CMA, HML, MKT, RMW and SMB.\n",
    "Hint: use GLS regressions\n",
    "Hint: the realized market prices of risk for the last time point are: -0.02 (CMA), -0.015 (HML), -0.0037 (MKT), -0.023 (RMW), 0.023 (SMB), 0.0020 (constant).\n",
    "Hint: the constant is the alpha.\n",
    "\n",
    "C.3 Fama and MacBeth recommend to compute the unconditional estimate of the market price of risk as the sample mean. Do so, then multiply the solution by 25200 to have the estimate in annual % units.\n",
    "Hint: The solution is \n",
    "CMA     -11.884396 %\n",
    "HML     -14.551905 %\n",
    "MER      -3.242965 %\n",
    "RMW       1.850954 %\n",
    "SMB       2.353284 %\n",
    "alpha     9.590819 %\n",
    "\n",
    "C.4 Compute the asymptotic t-statistic for the unconditional market prices of risk from C.3. Is there evidence for a non-zero market price of risk?\n",
    "Hint: "
   ]
  },
  {
   "cell_type": "code",
   "execution_count": 1,
   "metadata": {},
   "outputs": [],
   "source": [
    "#packages\n",
    "import pandas as pd\n",
    "import numpy as np\n",
    "import statsmodels.api as sm"
   ]
  },
  {
   "cell_type": "markdown",
   "metadata": {},
   "source": [
    "## Solution A.1"
   ]
  },
  {
   "cell_type": "code",
   "execution_count": 2,
   "metadata": {},
   "outputs": [],
   "source": [
    "#daily euro-area stock returns\n",
    "r_d = pd.read_csv('r_ES50_d_cleaned_realized.csv', parse_dates = True, index_col=0)"
   ]
  },
  {
   "cell_type": "markdown",
   "metadata": {},
   "source": [
    "## Solution A.2"
   ]
  },
  {
   "cell_type": "code",
   "execution_count": 3,
   "metadata": {},
   "outputs": [],
   "source": [
    "#euro rf\n",
    "y_ecb = pd.read_csv('y_ecb_2004_2020_d.csv', parse_dates = True, index_col=0)\n"
   ]
  },
  {
   "cell_type": "markdown",
   "metadata": {},
   "source": [
    "## Solution A.3\n"
   ]
  },
  {
   "cell_type": "code",
   "execution_count": 4,
   "metadata": {},
   "outputs": [],
   "source": [
    "# US factor returns\n",
    "f_d = pd.read_csv('FF5_d.csv', parse_dates=True, index_col=0)\n"
   ]
  },
  {
   "cell_type": "markdown",
   "metadata": {},
   "source": [
    "## Solution B.1\n"
   ]
  },
  {
   "cell_type": "code",
   "execution_count": 5,
   "metadata": {},
   "outputs": [],
   "source": [
    "#Merge data to same timeline\n",
    "data_eu = pd.concat([y_ecb[\"0.25 Y\"], r_d], axis=1, sort=False)\n",
    "data_eu_f = pd.concat([data_eu, f_d], axis=1, sort=False)\n",
    "data_eu_f = data_eu_f.dropna()\n"
   ]
  },
  {
   "cell_type": "markdown",
   "metadata": {},
   "source": [
    "## Solution B.2"
   ]
  },
  {
   "cell_type": "code",
   "execution_count": 6,
   "metadata": {},
   "outputs": [],
   "source": [
    "#data prep\n",
    "##Note: 0.25 Y is annualized %\n",
    "##Note: r_d is daily decimals\n",
    "##Note: f_d is daily %\n",
    "\n",
    "##Ergo: Have all returns as daily decimals\n",
    "\n",
    "data_eu_f[\"0.25 Y\"] = data_eu_f[\"0.25 Y\"] / (252*100)\n",
    "data_eu_f = data_eu_f.rename(columns={'1/N': 'MER'})\n",
    "data_eu_f['MER'] = data_eu_f['MER'] - data_eu_f['0.25 Y']\n",
    "data_eu_f = data_eu_f.drop(['Mkt-RF', 'RF' ], axis=1)\n",
    "data_eu_f[\"SMB\"] = data_eu_f[\"SMB\"] / 100\n",
    "data_eu_f[\"HML\"] = data_eu_f[\"HML\"] / 100\n",
    "data_eu_f[\"RMW\"] = data_eu_f[\"RMW\"] / 100\n",
    "data_eu_f[\"CMA\"] = data_eu_f[\"CMA\"] / 100\n",
    "\n",
    "#just in case\n",
    "data_eu_f = data_eu_f.dropna()"
   ]
  },
  {
   "cell_type": "markdown",
   "metadata": {},
   "source": [
    "## Solution C.1\n",
    "\n",
    "\n",
    "\n",
    "\n"
   ]
  },
  {
   "cell_type": "code",
   "execution_count": 7,
   "metadata": {},
   "outputs": [],
   "source": [
    "#TickerNames of r_d\n",
    "beta_i = data_eu_f.agg('mean')\n",
    "beta_i = beta_i.drop(['0.25 Y', 'MER', 'SMB', 'HML', 'RMW', 'CMA'], axis=0)\n",
    "TickerNames = beta_i.index"
   ]
  },
  {
   "cell_type": "code",
   "execution_count": 8,
   "metadata": {},
   "outputs": [],
   "source": [
    "def GetBeta(data_eu_f, TickerNames): \n",
    "         \n",
    "    betas_i = pd.DataFrame()\n",
    "    \n",
    "    X = data_eu_f.iloc[:,-5:]\n",
    "    X = sm.add_constant(X)\n",
    "    for i in range(1,44):\n",
    "        #set y\n",
    "        y = data_eu_f.iloc[:,i] - data_eu_f[\"0.25 Y\"]\n",
    "        \n",
    "        #GLS\n",
    "        linReg = sm.GLS(y,X)\n",
    "        output = linReg.fit()\n",
    "        output_beta_i = output.params\n",
    "        \n",
    "        betas_i = betas_i.append(output_beta_i, ignore_index=True)\n",
    "    \n",
    "    betas_i = betas_i.set_index(TickerNames)\n",
    "    betas_i = betas_i.drop(['const'], axis=1)\n",
    "    \n",
    "    return (betas_i)\n",
    "        "
   ]
  },
  {
   "cell_type": "code",
   "execution_count": 9,
   "metadata": {},
   "outputs": [
    {
     "name": "stdout",
     "output_type": "stream",
     "text": [
      "               CMA       HML       MER       RMW       SMB\n",
      "ADS.DE   -0.243772 -0.097618  0.851697  0.050128  0.090717\n",
      "AI.PA     0.045496 -0.143370  0.855699 -0.024617 -0.000343\n",
      "ALV.DE   -0.253101  0.160126  1.178462 -0.129511 -0.096547\n",
      "ASML.AS  -0.235243 -0.227791  0.889438 -0.287252  0.179596\n",
      "CS.PA    -0.085029  0.163856  1.457995 -0.241171 -0.099821\n",
      "BBVA.MC  -0.041478  0.302653  1.262021  0.060185  0.029287\n",
      "SAN.MC    0.079578  0.277532  1.296727  0.036910  0.024292\n",
      "BAS.DE   -0.024021  0.046740  1.062733  0.107708  0.123994\n",
      "BAYN.DE   0.160103 -0.235375  0.950234 -0.057504  0.053269\n",
      "BMW.DE   -0.127041  0.069487  1.101876  0.085578  0.143806\n",
      "BNP.PA   -0.150860  0.416631  1.348611 -0.197138  0.002106\n",
      "CRG.IR    0.116451  0.078503  1.047814  0.034205  0.167344\n",
      "SGO.PA   -0.001828 -0.042827  1.355478  0.081573  0.140385\n",
      "DAI.DE   -0.155665  0.125811  1.290761  0.305240  0.266105\n",
      "DTE.DE    0.172633 -0.153924  0.785542 -0.097720 -0.060086\n",
      "ENEL.MI   0.241394 -0.133576  0.964940 -0.007218 -0.180976\n",
      "ENGI.PA   0.290245 -0.135477  1.001949  0.117289 -0.139716\n",
      "ENI.MI    0.097209  0.062532  1.038662  0.113813 -0.043191\n",
      "EOAN.DE   0.268678 -0.185926  0.963278 -0.101450 -0.178340\n",
      "EL.PA     0.001426 -0.040016  0.633314  0.137268 -0.123313\n",
      "FRE.DE   -0.196678 -0.094687  0.622688  0.240747 -0.043343\n",
      "BN.PA     0.174071 -0.174028  0.666946  0.050095 -0.076956\n",
      "IBE.MC    0.192022 -0.014485  0.937350 -0.046600 -0.194656\n",
      "INGA.AS  -0.476589  0.575729  1.601052 -0.159916 -0.037891\n",
      "ISP.MI    0.030024  0.233934  1.379560 -0.214473  0.032461\n",
      "OR.PA     0.135775 -0.190171  0.775212  0.079350 -0.128820\n",
      "MC.PA    -0.189787 -0.090758  1.030815  0.028855 -0.009853\n",
      "MUV2.DE   0.086560  0.010041  0.887374  0.111182  0.037666\n",
      "NOKIA.HE -0.218289 -0.146574  1.017438 -0.395857 -0.067695\n",
      "ORA.PA    0.287809 -0.179163  0.795282 -0.124242 -0.121132\n",
      "PHIA.AS   0.102659 -0.135502  0.960996 -0.316960 -0.009688\n",
      "SAF.PA   -0.260770  0.235001  1.005938  0.091455  0.068080\n",
      "SAN.PA    0.243749 -0.211216  0.733310 -0.178051 -0.214260\n",
      "SAP.DE   -0.270229 -0.161518  0.776701 -0.100671 -0.020791\n",
      "SU.PA    -0.086320 -0.054029  1.236020 -0.075387 -0.040863\n",
      "SIE.DE   -0.118186  0.007640  1.077130  0.075551  0.149832\n",
      "TEF.MC    0.285376 -0.084292  0.922078 -0.013084 -0.068054\n",
      "FP.PA    -0.008474  0.096247  0.977196  0.194772 -0.055504\n",
      "URW.AS   -0.405046  0.311753  0.898277  0.395147  0.185325\n",
      "UNA.AS    0.299066 -0.200645  0.645449  0.001353 -0.164296\n",
      "DG.PA    -0.159557  0.020047  1.144627  0.128614 -0.011740\n",
      "VIV.PA    0.215861 -0.116547  0.820859 -0.147244 -0.069720\n",
      "VOW.DE    0.181782  0.055250  0.750472  0.389047  0.563333\n"
     ]
    }
   ],
   "source": [
    "beta_i = GetBeta(data_eu_f, TickerNames)\n",
    "print(beta_i)"
   ]
  },
  {
   "cell_type": "markdown",
   "metadata": {},
   "source": [
    "## Solution C.2"
   ]
  },
  {
   "cell_type": "code",
   "execution_count": 10,
   "metadata": {},
   "outputs": [],
   "source": [
    "def GetLambda_t(data_eu_f, beta_i):\n",
    "    \n",
    "    X = beta_i\n",
    "    X = sm.add_constant(X)\n",
    "    \n",
    "    Lambda = pd.DataFrame()\n",
    "    for t in range(0,data_eu_f.shape[0]):\n",
    "        y = data_eu_f.iloc[t,1:44] - data_eu_f.iloc[t,0]\n",
    "        \n",
    "        #GLS\n",
    "        linReg = sm.GLS(y,X)\n",
    "        output = linReg.fit()\n",
    "        lambda_t = output.params\n",
    "        Lambda = Lambda.append(lambda_t, ignore_index=True)\n",
    " \n",
    "    return Lambda"
   ]
  },
  {
   "cell_type": "code",
   "execution_count": 11,
   "metadata": {},
   "outputs": [
    {
     "data": {
      "text/html": [
       "<div>\n",
       "<style scoped>\n",
       "    .dataframe tbody tr th:only-of-type {\n",
       "        vertical-align: middle;\n",
       "    }\n",
       "\n",
       "    .dataframe tbody tr th {\n",
       "        vertical-align: top;\n",
       "    }\n",
       "\n",
       "    .dataframe thead th {\n",
       "        text-align: right;\n",
       "    }\n",
       "</style>\n",
       "<table border=\"1\" class=\"dataframe\">\n",
       "  <thead>\n",
       "    <tr style=\"text-align: right;\">\n",
       "      <th></th>\n",
       "      <th>CMA</th>\n",
       "      <th>HML</th>\n",
       "      <th>MER</th>\n",
       "      <th>RMW</th>\n",
       "      <th>SMB</th>\n",
       "      <th>const</th>\n",
       "    </tr>\n",
       "  </thead>\n",
       "  <tbody>\n",
       "    <tr>\n",
       "      <th>3935</th>\n",
       "      <td>0.020219</td>\n",
       "      <td>0.023885</td>\n",
       "      <td>0.031956</td>\n",
       "      <td>0.019575</td>\n",
       "      <td>-0.006056</td>\n",
       "      <td>-0.019318</td>\n",
       "    </tr>\n",
       "    <tr>\n",
       "      <th>3936</th>\n",
       "      <td>-0.020558</td>\n",
       "      <td>-0.015129</td>\n",
       "      <td>-0.003699</td>\n",
       "      <td>-0.023706</td>\n",
       "      <td>0.023710</td>\n",
       "      <td>0.001970</td>\n",
       "    </tr>\n",
       "  </tbody>\n",
       "</table>\n",
       "</div>"
      ],
      "text/plain": [
       "           CMA       HML       MER       RMW       SMB     const\n",
       "3935  0.020219  0.023885  0.031956  0.019575 -0.006056 -0.019318\n",
       "3936 -0.020558 -0.015129 -0.003699 -0.023706  0.023710  0.001970"
      ]
     },
     "execution_count": 11,
     "metadata": {},
     "output_type": "execute_result"
    }
   ],
   "source": [
    "Lambda = GetLambda_t(data_eu_f, beta_i)\n",
    "Lambda.tail(2)"
   ]
  },
  {
   "cell_type": "code",
   "execution_count": 12,
   "metadata": {},
   "outputs": [],
   "source": [
    "Lambda = Lambda.rename(columns={'const': 'alpha'})"
   ]
  },
  {
   "cell_type": "markdown",
   "metadata": {},
   "source": [
    "## Solution C.3"
   ]
  },
  {
   "cell_type": "code",
   "execution_count": 13,
   "metadata": {},
   "outputs": [
    {
     "name": "stdout",
     "output_type": "stream",
     "text": [
      "CMA     -11.884396\n",
      "HML     -14.551905\n",
      "MER      -3.242965\n",
      "RMW       1.850954\n",
      "SMB       2.353284\n",
      "alpha     9.590819\n",
      "dtype: float64\n"
     ]
    }
   ],
   "source": [
    "MPR_uncond = Lambda.mean() * 252 * 100 #annualized in %\n",
    "print(MPR_uncond)"
   ]
  },
  {
   "cell_type": "markdown",
   "metadata": {},
   "source": [
    "## Solution C.4"
   ]
  },
  {
   "cell_type": "code",
   "execution_count": 14,
   "metadata": {},
   "outputs": [
    {
     "name": "stdout",
     "output_type": "stream",
     "text": [
      "CMA     -1.633429\n",
      "HML     -1.375347\n",
      "MER     -0.365656\n",
      "RMW      0.236060\n",
      "SMB      0.207018\n",
      "alpha    1.361660\n",
      "dtype: float64\n"
     ]
    }
   ],
   "source": [
    "MPR_t = Lambda.mean() / (Lambda.std() / np.sqrt(data_eu_f.shape[0]))\n",
    "print(MPR_t)"
   ]
  },
  {
   "cell_type": "markdown",
   "metadata": {},
   "source": [
    "**Interpretation:**\n",
    "\n",
    "All t-stats are far away from 3. Statistically, there is strong evidence that the Fama-French risk factors were not priced in European equity at the daily frequency."
   ]
  },
  {
   "cell_type": "code",
   "execution_count": null,
   "metadata": {},
   "outputs": [],
   "source": []
  },
  {
   "cell_type": "code",
   "execution_count": null,
   "metadata": {},
   "outputs": [],
   "source": []
  }
 ],
 "metadata": {
  "kernelspec": {
   "display_name": "Python 3",
   "language": "python",
   "name": "python3"
  },
  "language_info": {
   "codemirror_mode": {
    "name": "ipython",
    "version": 3
   },
   "file_extension": ".py",
   "mimetype": "text/x-python",
   "name": "python",
   "nbconvert_exporter": "python",
   "pygments_lexer": "ipython3",
   "version": "3.7.6"
  }
 },
 "nbformat": 4,
 "nbformat_minor": 2
}
