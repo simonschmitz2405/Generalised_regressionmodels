{
 "cells": [
  {
   "cell_type": "markdown",
   "metadata": {},
   "source": [
    "# Exercise for PhD students and interested Master students\n",
    "\n",
    "We want to learn whether European equity markets pay a premium for taking on systematic risks.\n",
    "\n",
    "\n",
    "## Task (A): Reading-in Data\n",
    "\n",
    "A.1 Load daily equity returns of Euro Stoxx 50 constituents, i.e. r_ES50_d_cleaned_realized.csv\n",
    "\n",
    "A.2 Load daily Euro spot rates, i.e. r_ecb_2004_2020_d.csv\n",
    "\n",
    "A.3 Load daily return data from the Fama French database (market, size, HML), i.e. FF5_d.csv\n",
    "\n",
    "\n",
    "## Task (B): Preparing Data\n",
    "\n",
    "B.1 Treat 3 month spot rate as the risk-free rate. Merge data into a pandas dataframe called data_eu_f. \n",
    "\n",
    "B.2 Notice, the read-in data has different scalings right now. Risk-free rate is in annualized %, equity returns are in daily decimals, Fama French factors are in daily %. Bring data_eu_f into daily decimals. Also, ensure to swap the market return from Fama and French with the 1/N portfolio return from r_ES50_d_cleaned_realized.csv. Notice, we swap the market return again with the excess market return, meaning you need to subtract the the risk-free rate. Hint: when going from annual to daily we assume 252 days convention (252 days = 1 year).\n",
    "\n",
    "## Task (C): Fama-MacBeth Regressions\n",
    "\n",
    "C.1 Write a function called GetBeta. It takes as input data_eu_f as well as the ticker names. The function returns factor loadings of each ticker. Loadings are computed with regard to the factors markets' excess return, SMB, HML, RMB and CMA.\n",
    "Hint: Use GLS regressions\n",
    "Hint: Use statsmodels package for GLS regressions\n",
    "Hint: you regress excess returns onto the factors\n",
    "Hint: Adidas has the following loadings: -0.24 (CMA), -0.098 (HML), 0.85 (MKT), 0.05 (RMW), 0.09 (SMB)\n",
    "\n",
    "\n",
    "C.2 Write a function called GetLambda. The function takes as input data_eu_f and the loadings from C.1. The function runs cross-sectional regressions for each time point t and returns a matrix. The rows contains time periods whereas the columns contain the date-t realized market prices for CMA, HML, MKT, RMW and SMB.\n",
    "Hint: use GLS regressions\n",
    "Hint: the realized market prices of risk for the last time point are: -0.02 (CMA), -0.015 (HML), -0.0037 (MKT), -0.023 (RMW), 0.023 (SMB), 0.0020 (constant).\n",
    "Hint: the constant is the alpha.\n",
    "\n",
    "C.3 Fama and MacBeth recommend to compute the unconditional estimate of the market price of risk as the sample mean. Do so, then multiply the solution by 25200 to have the estimate in annual % units.\n",
    "Hint: The solution is \n",
    "CMA     -11.884396 %\n",
    "HML     -14.551905 %\n",
    "MER      -3.242965 %\n",
    "RMW       1.850954 %\n",
    "SMB       2.353284 %\n",
    "alpha     9.590819 %\n",
    "\n",
    "C.4 Compute the asymptotic t-statistic for the unconditional market prices of risk from C.3. Is there evidence for a non-zero market price of risk?\n",
    "Hint: "
   ]
  }
 ],
 "metadata": {
  "kernelspec": {
   "display_name": "Python 3",
   "language": "python",
   "name": "python3"
  },
  "language_info": {
   "codemirror_mode": {
    "name": "ipython",
    "version": 3
   },
   "file_extension": ".py",
   "mimetype": "text/x-python",
   "name": "python",
   "nbconvert_exporter": "python",
   "pygments_lexer": "ipython3",
   "version": "3.7.6"
  }
 },
 "nbformat": 4,
 "nbformat_minor": 2
}
